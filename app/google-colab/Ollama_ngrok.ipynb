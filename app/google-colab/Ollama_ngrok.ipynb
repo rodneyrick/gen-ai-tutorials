{
  "nbformat": 4,
  "nbformat_minor": 0,
  "metadata": {
    "colab": {
      "provenance": [],
      "gpuType": "T4"
    },
    "kernelspec": {
      "name": "python3",
      "display_name": "Python 3"
    },
    "language_info": {
      "name": "python"
    },
    "accelerator": "GPU"
  },
  "cells": [
    {
      "cell_type": "markdown",
      "source": [
        "# API em URL Público\n",
        "\n",
        "Criação de uma conta no site da https://ngrok.com/\n",
        "\n",
        "Pós-criação, copiar a API_KEY do link:\n",
        "https://dashboard.ngrok.com/get-started/your-authtoken\n",
        "\n",
        "Criar um dominio no Ngrok\n",
        "https://dashboard.ngrok.com/cloud-edge/domains"
      ],
      "metadata": {
        "id": "X6nqPnDFsNmy"
      }
    },
    {
      "cell_type": "markdown",
      "source": [
        "# Variáveis de ambiente\n",
        "\n",
        "É necessário criar duas secrets aqui no colab (Ícone de chave na lateral direita do menu)\n",
        "\n",
        "As chaves necessárias são:\n",
        "\n",
        "- NGROK_TOKEN\n",
        "- NGROK_DOMAIN\n",
        "\n"
      ],
      "metadata": {
        "id": "MqIYAn0ctJle"
      }
    },
    {
      "cell_type": "code",
      "source": [
        "from google.colab import userdata\n",
        "\n",
        "# Token de acesso ao Ngrok\n",
        "NGROK_API_KEY = userdata.get('NGROK_TOKEN')\n",
        "\n",
        "# Dominio criado no Ngrok\n",
        "NGROK_DOMAIN = userdata.get('NGROK_DOMAIN')\n",
        "\n",
        "# Escolha do modelo Ollama para uso\n",
        "MODEL_NAME_OLLAMA = 'llama2'\n"
      ],
      "metadata": {
        "id": "XNEwiRyCrrKx"
      },
      "execution_count": 9,
      "outputs": []
    },
    {
      "cell_type": "markdown",
      "source": [
        "# Instalação de Ollama no Google Colab Server"
      ],
      "metadata": {
        "id": "ect69ISTtayp"
      }
    },
    {
      "cell_type": "code",
      "execution_count": 10,
      "metadata": {
        "id": "JYW7O47Ym-po",
        "colab": {
          "base_uri": "https://localhost:8080/"
        },
        "outputId": "426a862d-c7a9-41cd-dd6c-da0bc41b2016"
      },
      "outputs": [
        {
          "output_type": "stream",
          "name": "stdout",
          "text": [
            "  % Total    % Received % Xferd  Average Speed   Time    Time     Time  Current\n",
            "                                 Dload  Upload   Total   Spent    Left  Speed\n",
            "  0     0    0     0    0     0      0      0 --:--:-- --:--:-- --:--:--     0>>> Downloading ollama...\n",
            "100 10044    0 10044    0     0  33452      0 --:--:-- --:--:-- --:--:-- 33368\n",
            "############################################################################################# 100.0%\n",
            ">>> Installing ollama to /usr/local/bin...\n",
            ">>> Adding ollama user to video group...\n",
            ">>> Adding current user to ollama group...\n",
            ">>> Creating ollama systemd service...\n",
            "WARNING: Unable to detect NVIDIA/AMD GPU. Install lspci or lshw to automatically detect and install GPU dependencies.\n",
            ">>> The Ollama API is now available at 127.0.0.1:11434.\n",
            ">>> Install complete. Run \"ollama\" from the command line.\n"
          ]
        }
      ],
      "source": [
        "# Download and install ollama to the system\n",
        "!curl https://ollama.ai/install.sh | sh"
      ]
    },
    {
      "cell_type": "markdown",
      "source": [
        "# Instalação de pacotes Python"
      ],
      "metadata": {
        "id": "mkgnUOtsthma"
      }
    },
    {
      "cell_type": "code",
      "source": [
        "!pip install -qU aiohttp pyngrok"
      ],
      "metadata": {
        "id": "WSexL3dfnTKL"
      },
      "execution_count": 11,
      "outputs": []
    },
    {
      "cell_type": "markdown",
      "source": [
        "# Execução e criação de API em URL Pública"
      ],
      "metadata": {
        "id": "c2j1CtyJtkXt"
      }
    },
    {
      "cell_type": "code",
      "source": [
        "# execução e criação da API\n",
        "import os\n",
        "import asyncio\n",
        "\n",
        "# Set LD_LIBRARY_PATH so the system NVIDIA library\n",
        "os.environ.update({'LD_LIBRARY_PATH': '/usr/lib64-nvidia'})\n",
        "\n",
        "os.environ['OLLAMA_HOST'] = '0.0.0.0'\n",
        "\n",
        "\n",
        "async def run_process(cmd):\n",
        "  print('>>> starting', *cmd)\n",
        "  p = await asyncio.subprocess.create_subprocess_exec(\n",
        "      *cmd,\n",
        "      stdout=asyncio.subprocess.PIPE,\n",
        "      stderr=asyncio.subprocess.PIPE,\n",
        "  )\n",
        "\n",
        "  async def pipe(lines):\n",
        "    async for line in lines:\n",
        "      print(line.strip().decode('utf-8'))\n",
        "\n",
        "  await asyncio.gather(\n",
        "      pipe(p.stdout),\n",
        "      pipe(p.stderr),\n",
        "  )\n",
        "\n",
        "#register an account at ngrok.com and create an authtoken and place it here\n",
        "await asyncio.gather(\n",
        "    run_process(['ngrok', 'config', 'add-authtoken', NGROK_API_KEY])\n",
        ")\n",
        "\n",
        "await asyncio.gather(\n",
        "    run_process(['ollama', 'serve']),\n",
        "    run_process(['ollama', 'run', MODEL_NAME_OLLAMA]),\n",
        "    run_process(['ngrok', 'http', f'--domain={NGROK_DOMAIN}', '--log', 'stderr', '11434']),\n",
        ")"
      ],
      "metadata": {
        "id": "YzjkVjCGnB8D"
      },
      "execution_count": null,
      "outputs": []
    }
  ]
}