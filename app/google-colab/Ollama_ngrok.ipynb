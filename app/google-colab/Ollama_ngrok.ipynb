{
  "nbformat": 4,
  "nbformat_minor": 0,
  "metadata": {
    "colab": {
      "provenance": [],
      "gpuType": "T4"
    },
    "kernelspec": {
      "name": "python3",
      "display_name": "Python 3"
    },
    "language_info": {
      "name": "python"
    },
    "accelerator": "GPU"
  },
  "cells": [
    {
      "cell_type": "markdown",
      "source": [
        "# API em URL Público\n",
        "\n",
        "Criação de uma conta no site da https://ngrok.com/\n",
        "\n",
        "Pós-criação, copiar a API_KEY do link:\n",
        "https://dashboard.ngrok.com/get-started/your-authtoken"
      ],
      "metadata": {
        "id": "X6nqPnDFsNmy"
      }
    },
    {
      "cell_type": "markdown",
      "source": [
        "# Inclusão de API-KEY nas variáveis de ambiente\n",
        "Ao registrar, adicionar a API no"
      ],
      "metadata": {
        "id": "MqIYAn0ctJle"
      }
    },
    {
      "cell_type": "code",
      "source": [
        "NGROK_API_KEY = 'HASH_DA_API_KEY'"
      ],
      "metadata": {
        "id": "XNEwiRyCrrKx"
      },
      "execution_count": null,
      "outputs": []
    },
    {
      "cell_type": "markdown",
      "source": [
        "# Instalação de Ollama no Google Colab Server"
      ],
      "metadata": {
        "id": "ect69ISTtayp"
      }
    },
    {
      "cell_type": "code",
      "execution_count": null,
      "metadata": {
        "id": "JYW7O47Ym-po"
      },
      "outputs": [],
      "source": [
        "# Download and install ollama to the system\n",
        "!curl https://ollama.ai/install.sh | sh"
      ]
    },
    {
      "cell_type": "markdown",
      "source": [
        "# Instalação de pacotes Python"
      ],
      "metadata": {
        "id": "mkgnUOtsthma"
      }
    },
    {
      "cell_type": "code",
      "source": [
        "!pip install -qU aiohttp pyngrok"
      ],
      "metadata": {
        "id": "WSexL3dfnTKL"
      },
      "execution_count": null,
      "outputs": []
    },
    {
      "cell_type": "markdown",
      "source": [
        "# Execução e criação de API em URL Pública"
      ],
      "metadata": {
        "id": "c2j1CtyJtkXt"
      }
    },
    {
      "cell_type": "code",
      "source": [
        "# Escolha do modelo Ollama para uso\n",
        "MODEL_NAME_OLLAMA = 'tinyllama'"
      ],
      "metadata": {
        "id": "AaP1YfGZuFIT"
      },
      "execution_count": null,
      "outputs": []
    },
    {
      "cell_type": "code",
      "source": [
        "# execução e criação da API\n",
        "import os\n",
        "import asyncio\n",
        "\n",
        "# Set LD_LIBRARY_PATH so the system NVIDIA library\n",
        "os.environ.update({'LD_LIBRARY_PATH': '/usr/lib64-nvidia'})\n",
        "\n",
        "async def run_process(cmd):\n",
        "  print('>>> starting', *cmd)\n",
        "  p = await asyncio.subprocess.create_subprocess_exec(\n",
        "      *cmd,\n",
        "      stdout=asyncio.subprocess.PIPE,\n",
        "      stderr=asyncio.subprocess.PIPE,\n",
        "  )\n",
        "\n",
        "  async def pipe(lines):\n",
        "    async for line in lines:\n",
        "      print(line.strip().decode('utf-8'))\n",
        "\n",
        "  await asyncio.gather(\n",
        "      pipe(p.stdout),\n",
        "      pipe(p.stderr),\n",
        "  )\n",
        "\n",
        "#register an account at ngrok.com and create an authtoken and place it here\n",
        "await asyncio.gather(\n",
        "    run_process(['ngrok', 'config', 'add-authtoken', NGROK_API_KEY])\n",
        ")\n",
        "\n",
        "await asyncio.gather(\n",
        "    run_process(['ollama', 'serve']),\n",
        "    run_process(['ollama', 'run', MODEL_NAME_OLLAMA]),\n",
        "    run_process(['ngrok', 'http', '--log', 'stderr', '11434']),\n",
        ")"
      ],
      "metadata": {
        "id": "YzjkVjCGnB8D"
      },
      "execution_count": null,
      "outputs": []
    }
  ]
}